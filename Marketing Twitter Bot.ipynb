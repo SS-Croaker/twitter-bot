{
 "cells": [
  {
   "cell_type": "code",
   "execution_count": 1,
   "metadata": {},
   "outputs": [
    {
     "name": "stdout",
     "output_type": "stream",
     "text": [
      "Authentication OK\n"
     ]
    }
   ],
   "source": [
    "# https://realpython.com/twitter-bot-python-tweepy/\n",
    "\n",
    "import tweepy\n",
    "from time import sleep \n",
    "import logging\n",
    "from twitter_config import create_api\n",
    "import random\n",
    "# Authenticate to Twitter\n",
    "#auth = tweepy.OAuthHandler(consumer_key, consumer_secret)\n",
    "#auth.set_access_token(access_token,access_token_secret)\n",
    "\n",
    "#api = tweepy.API(auth,wait_on_rate_limit=True, wait_on_rate_limit_notify=True) \n",
    "\n",
    "#try:\n",
    "#    api.verify_credentials()\n",
    "#    print(\"Authentication OK\")\n",
    "#except:\n",
    "#    print(\"Error during authentication\")\n",
    "\n",
    "api = create_api()\n",
    "\n"
   ]
  },
  {
   "cell_type": "code",
   "execution_count": null,
   "metadata": {},
   "outputs": [
    {
     "name": "stderr",
     "output_type": "stream",
     "text": [
      "INFO:root:API created\n"
     ]
    },
    {
     "name": "stdout",
     "output_type": "stream",
     "text": [
      "Authentication OK\n"
     ]
    },
    {
     "name": "stderr",
     "output_type": "stream",
     "text": [
      "INFO:root:Processing tweet id 1344757969339228160\n"
     ]
    },
    {
     "name": "stdout",
     "output_type": "stream",
     "text": [
      "1800\n",
      "-----\n",
      "\n",
      "1344757969339228160\n",
      "\n",
      "Tweet by: @janicemah_\n",
      "Retweeted the tweet\n"
     ]
    },
    {
     "name": "stderr",
     "output_type": "stream",
     "text": [
      "INFO:root:Processing tweet id 1344757993422745600\n",
      "INFO:root:Processing tweet id 1344759287088873473\n"
     ]
    },
    {
     "name": "stdout",
     "output_type": "stream",
     "text": [
      "2160\n",
      "-----\n",
      "\n",
      "1344759287088873473\n",
      "\n",
      "Tweet by: @ShawnMSmith\n",
      "Retweeted the tweet\n"
     ]
    }
   ],
   "source": [
    "logging.basicConfig(level=logging.INFO)\n",
    "logger = logging.getLogger()\n",
    "\n",
    "#def retrieve_last_retweet_id(file_name):\n",
    "#    f_read = open(file_name,'r')\n",
    "#    last_retweet_id = int(f_read.read().strip())\n",
    "#    f_read.close()\n",
    "#    return last_retweet_id        \n",
    "\n",
    "#this function is to store the tweet ids that the bot has retweeted\n",
    "\n",
    "def store_last_retweet_id(last_retweet_id,last_retweet_username,file_name):\n",
    "    f_write = open(file_name,'a')\n",
    "    f_write.write('\\n')\n",
    "    f_write.write(str(last_retweet_id) + ' - ' + str(last_retweet_username))\n",
    "    f_write.close()\n",
    "    return\n",
    "\n",
    "file_name_retweet = 'Last_Retweet_Tweet_ID.txt' \n",
    "\n",
    "#read about SteamListener Class of tweepy\n",
    "\n",
    "class RetweetListener(tweepy.StreamListener):\n",
    "    def __init__(self, api):\n",
    "        self.api = api\n",
    "        self.me = api.me()\n",
    "\n",
    "    def on_status(self, tweet):\n",
    "        \n",
    "        logger.info(f\"Processing tweet id {tweet.id}\")\n",
    "        \n",
    "        if tweet.in_reply_to_status_id is not None or \\\n",
    "            tweet.user.id == self.me.id:\n",
    "            # This tweet is a reply or I'm its author so, ignore it\n",
    "            return\n",
    "        \n",
    "        # if not tweet.retweeted checks if my account has retweeted the tweet or not\n",
    "        # if 'RT @' not in tweet.text check is the tweet is NOT a retweet\n",
    "        \n",
    "        if (not tweet.retweeted) and ('RT @' not in tweet.text):\n",
    "            \n",
    "            try:\n",
    "                sleep_time = random.randrange(1800,3600,360)\n",
    "                print(sleep_time)\n",
    "                                               \n",
    "                tweet.retweet()\n",
    "                print('-----\\n')\n",
    "                print(tweet.id)\n",
    "                last_retweet_id = tweet.id\n",
    "                                \n",
    "                print('\\nTweet by: @' + tweet.user.screen_name)\n",
    "                last_retweet_username = tweet.user.screen_name\n",
    "                \n",
    "                store_last_retweet_id(last_retweet_id,last_retweet_username,file_name_retweet)\n",
    "                print('Retweeted the tweet')\n",
    "                sleep(sleep_time)\n",
    "                \n",
    "            except Exception as e:\n",
    "                logger.error(\"Error on fav and retweet\", exc_info=True)\n",
    "\n",
    "    \n",
    "    def on_error(self, status):\n",
    "        logger.error(status)\n",
    "\n",
    "       \n",
    "        \n",
    "def main(keywords):\n",
    "    api = create_api()\n",
    "    tweets_listener = RetweetListener(api)\n",
    "    stream = tweepy.Stream(api.auth, tweets_listener)\n",
    "    stream.filter(track=keywords, languages=[\"en\"])\n",
    "    \n",
    "\n",
    "if __name__ == \"__main__\":\n",
    "    main([\"marketingtwitter\"])"
   ]
  },
  {
   "cell_type": "code",
   "execution_count": null,
   "metadata": {},
   "outputs": [],
   "source": []
  }
 ],
 "metadata": {
  "kernelspec": {
   "display_name": "Python 3",
   "language": "python",
   "name": "python3"
  },
  "language_info": {
   "codemirror_mode": {
    "name": "ipython",
    "version": 3
   },
   "file_extension": ".py",
   "mimetype": "text/x-python",
   "name": "python",
   "nbconvert_exporter": "python",
   "pygments_lexer": "ipython3",
   "version": "3.8.3"
  }
 },
 "nbformat": 4,
 "nbformat_minor": 4
}

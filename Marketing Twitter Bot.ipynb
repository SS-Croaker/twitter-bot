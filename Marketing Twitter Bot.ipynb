{
 "cells": [
  {
   "cell_type": "code",
   "execution_count": 1,
   "metadata": {},
   "outputs": [
    {
     "name": "stdout",
     "output_type": "stream",
     "text": [
      "Authentication OK\n"
     ]
    }
   ],
   "source": [
    "import tweepy\n",
    "from time import sleep \n",
    "import random\n",
    "#from credentials import * \n",
    "#from config import QUERY, FOLLOW, LIKE, SLEEP_TIME \n",
    "\n",
    "consumer_key = \"IzKnwsBtUXUR1jj7FCfL0j0iQ\"\n",
    "consumer_secret = \"wLnML2w0fZyhek2Z7tKijw9KRquOyImxhmR2DehDWIZblzq47c\"\n",
    "access_token = \"1343121194619269121-3AXvDw09FRfTXdIMntoFikFQ0oiR6X\"\n",
    "access_token_secret = \"yttFc5T6uRTsZksgZe2DnndL2gtO5KpCk4uQqfcjNdV0q\"\n",
    "\n",
    "# Authenticate to Twitter\n",
    "auth = tweepy.OAuthHandler(consumer_key, consumer_secret)\n",
    "auth.set_access_token(access_token,access_token_secret)\n",
    "\n",
    "api = tweepy.API(auth, wait_on_rate_limit=True,\n",
    "    wait_on_rate_limit_notify=True) \n",
    "\n",
    "try:\n",
    "    api.verify_credentials()\n",
    "    print(\"Authentication OK\")\n",
    "except:\n",
    "    print(\"Error during authentication\")\n",
    "\n"
   ]
  },
  {
   "cell_type": "code",
   "execution_count": null,
   "metadata": {},
   "outputs": [],
   "source": [
    "%%capture output\n",
    "#print(\"Twitter bot which retweets, like tweets and follow users\") \n",
    "#print(\"Bot Settings\") \n",
    "#print(\"Like Tweets :\", LIKE) \n",
    "#print(\"Follow users :\", FOLLOW) \n",
    "\n",
    "# https://stackoverflow.com/questions/32539832/keep-jupyter-notebook-running-after-closing-browser-tab\n",
    "sleep_time = random.randrange(1800,3600,360)\n",
    "\n",
    "for tweet in tweepy.Cursor(api.search, q = \"#marketingtwitter\").items(): \n",
    "    try: \n",
    "        print('\\nTweet by: @' + tweet.user.screen_name) \n",
    "  \n",
    "        tweet.retweet() \n",
    "        print('Retweeted the tweet') \n",
    "  \n",
    "        # Favorite the tweet \n",
    "        #if LIKE: \n",
    "        #    tweet.favorite() \n",
    "        #    print('Favorited the tweet') \n",
    "  \n",
    "        # Follow the user who tweeted \n",
    "        # check that bot is not already following the user \n",
    "        #if FOLLOW: \n",
    "         #   if not tweet.user.following: \n",
    "          #      tweet.user.follow() \n",
    "           #     print('Followed the user') \n",
    "  \n",
    "        sleep(sleep_time) \n",
    "  \n",
    "    except tweepy.TweepError as e: \n",
    "        print(e.reason) \n",
    "  \n",
    "    except StopIteration: \n",
    "        break"
   ]
  },
  {
   "cell_type": "code",
   "execution_count": null,
   "metadata": {},
   "outputs": [],
   "source": []
  }
 ],
 "metadata": {
  "kernelspec": {
   "display_name": "Python 3",
   "language": "python",
   "name": "python3"
  },
  "language_info": {
   "codemirror_mode": {
    "name": "ipython",
    "version": 3
   },
   "file_extension": ".py",
   "mimetype": "text/x-python",
   "name": "python",
   "nbconvert_exporter": "python",
   "pygments_lexer": "ipython3",
   "version": "3.8.3"
  }
 },
 "nbformat": 4,
 "nbformat_minor": 4
}
